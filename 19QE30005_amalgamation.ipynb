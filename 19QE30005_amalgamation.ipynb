{
  "metadata": {
    "kernelspec": {
      "name": "python",
      "display_name": "Python (Pyodide)",
      "language": "python"
    },
    "language_info": {
      "codemirror_mode": {
        "name": "python",
        "version": 3
      },
      "file_extension": ".py",
      "mimetype": "text/x-python",
      "name": "python",
      "nbconvert_exporter": "python",
      "pygments_lexer": "ipython3",
      "version": "3.8"
    }
  },
  "nbformat_minor": 4,
  "nbformat": 4,
  "cells": [
    {
      "cell_type": "code",
      "source": "# NAME - Gurjot Singh\n# ROLL NO - 19QE30004\n# OPTIMISATION OF BANK LENDING DECISIONS\n# IMPLEMENTATION OF AMALGAMATION OF GA AND TABU\n\n# Importing all the libraries required\nfrom numpy.random import randint\nfrom numpy.random import rand\nimport numpy as np\nimport pandas as pd\nimport random \nfrom itertools import combinations\nimport math\n\n#Data and parameter's values taken from the reference paper\n\ncust_data = [[10  ,0.021  ,'AAA' ,0.0002],\n             [25  ,0.022  ,'BB'  ,0.0058],\n             [4   ,0.021  ,'A'   ,0.001],\n             [11  ,0.027  ,'AA'  ,0.0003],\n             [18  ,0.025  ,'BBB' ,0.0024],\n             [3   ,0.026  ,'AAA' ,0.0002],\n             [17  ,0.023  ,'BB'  ,0.0058],\n             [15  ,0.021  ,'AAA' ,0.0002],\n             [9   ,0.028  ,'A'   ,0.001],\n             [10  ,0.022  ,'A'   ,0.001]]\n\ntotal_iterations = 60\nN = 10\npop_size = 60\ncross_prob = 0.8\nmut_prob = 0.006\nD = 60\nK = 0.15",
      "metadata": {},
      "execution_count": 1,
      "outputs": []
    },
    {
      "cell_type": "code",
      "source": "",
      "metadata": {},
      "execution_count": null,
      "outputs": []
    },
    {
      "cell_type": "code",
      "source": "# Calculate fitness values of the given chromosome\n\ndef calculate_fitness_value(chromosome):\n    \n  total_fitness_val  = -0.009*D\n  for i in range(0,10):\n    # if bit is 1 the value is added to total_fitness_val\n    if chromosome[i] != 0:\n      total_fitness_val += cust_data[i][1] * cust_data[i][0] + 0.01 * ((1-K)*D - cust_data[i][0]) - 2*cust_data[i][3]    \n    \n  return (total_fitness_val)",
      "metadata": {},
      "execution_count": 2,
      "outputs": []
    },
    {
      "cell_type": "code",
      "source": "# Roulette wheel selection method for selecting the parents\n\ndef roulette_wheel_selection(population, num): \n    \n    selected_population = [] \n    \n    #calculating fitness values of population array\n    fitness_array = [calculate_fitness_value(i) for i in population]\n    total_fitness = float(sum(fitness_array))\n    \n    #calculating probability of selection of each fitness values \n    relative_fitness_array = [float(fitness/total_fitness) for fitness in fitness_array]\n    \n    #calculating cumulative probability array\n    cumulative_prob_array = np.cumsum(relative_fitness_array)\n    \n    #generating random number to select chromosomes\n    rand_array = [random.random() for i in range(len(population))]\n    \n    #finding the indices to select\n    sel_indices = cumulative_prob_array.searchsorted(rand_array)\n    \n    for i in sel_indices:\n        selected_population.append(population[i])    \n    \n    return selected_population  ",
      "metadata": {},
      "execution_count": 3,
      "outputs": []
    },
    {
      "cell_type": "code",
      "source": "#Genetic validation check\n\ndef check_validation(chromosome):\n  totsum = 0\n\n  for i in range(0,10):\n        \n    # if bit is 1 the value is added to totsum\n    if chromosome[i] == 1:\n      totsum = totsum + cust_data[i][0]\n    \n  return (totsum) ",
      "metadata": {},
      "execution_count": 4,
      "outputs": []
    },
    {
      "cell_type": "code",
      "source": "# Function for generating the initial population\ndef generate_initial_population(num, N):\n    \n    initial_population=[]\n    \n    while(len(initial_population) < num):\n        \n        # Genrating intial binary string \n        x = [random.randint(0, 1) for i in range(N)] \n        \n         #validation check\n        if check_validation(x) <= (1-K)*D:  \n             initial_population.append(x)\n        else : \n             continue\n                \n    return initial_population",
      "metadata": {},
      "execution_count": 5,
      "outputs": []
    },
    {
      "cell_type": "code",
      "source": "#Function for Single point crossover with crossover probability = cross_prob\ndef crossover(par1, par2, cross_prob):\n    \n  #initialising ch1\n  child1 = par1.copy() \n  #initialising ch2\n  child2 = par2.copy() \n    \n  #crossover condition\n  if rand() < cross_prob: \n    # randomly selecting a point for crossover\n    pt = randint(1, len(par1)-2)\n    \n    #formation of both the children\n    child1 = par1[:pt] + par2[pt:]\n    child2 = par2[:pt] + par1[pt:]\n    \n  #check_validation check for child 1\n  if check_validation(child1) > (1-K)*D : \n    child1 = par1\n  #check_validation check for child 2\n  if check_validation(child2) > (1-K)*D :\n    child2 = par2\n    \n  return [child1, child2]",
      "metadata": {},
      "execution_count": 6,
      "outputs": []
    },
    {
      "cell_type": "code",
      "source": "#Function for Mutation with Mutation probability = mut_prob\ndef mutation(chromosome, mut_prob):\n    \n  for i in range(len(chromosome)):    \n    # Mutation condition\n    if rand() < mut_prob:\n      #check_validation check\n      if check_validation(chromosome) <= ((1-K)*D) : \n        #flipping the bit\n        if chromosome[i] == 1:\n            chromosome[i] = 0\n        else :\n            chromosome[i] = 1",
      "metadata": {},
      "execution_count": 7,
      "outputs": []
    },
    {
      "cell_type": "code",
      "source": "first_Sol=[1,0,1,0,1,0,1,0,0,0]",
      "metadata": {},
      "execution_count": 8,
      "outputs": []
    },
    {
      "cell_type": "code",
      "source": "# Function for generating the neighbouhood solution \ndef generate_neighbourhood_solution(solution, pos1 ,pos2):\n    \n    # generating local copy \n    solution_copy = solution.copy()\n    \n    # Swapping the elements at pos = pos1 and pos = pos2\n    temp = solution_copy[pos1]\n    solution_copy[pos1] = solution_copy[pos2]\n    solution_copy[pos2] = temp\n    \n    return solution",
      "metadata": {},
      "execution_count": 9,
      "outputs": []
    },
    {
      "cell_type": "code",
      "source": "# Preparation of Tabu structure \ndef get_Tabu():\n    # Initialising the dictionary\n    final_dict = {}\n     # Initialising the instance dictionary\n    cur_dict = (0,1,2,3,4,5,6,7,8,9)\n    \n    for ind in combinations(cur_dict, 2):\n        final_dict[ind] = {'it': 0, 'f': 0}\n    return final_dict",
      "metadata": {},
      "execution_count": 10,
      "outputs": []
    },
    {
      "cell_type": "code",
      "source": "# Implementation of Tabu search\n\ndef Tabu_Search(first_Sol):\n    curr=4\n    # Calling get_Tabu function to get Tabu structure\n    cur_TS_struct = get_Tabu() \n    final_Sol = first_Sol\n    fitness_values = calculate_fitness_value(first_Sol)\n    cur_Sol = first_Sol\n    cur_fitness_values = calculate_fitness_value(first_Sol)\n    iter = 1\n    cnt = 0\n    while cnt < 500 and iter < 2:\n        for move in cur_TS_struct:\n            \n            # Generating the cur list of candidates\n            list_of_candidates = generate_neighbourhood_solution(cur_Sol, move[0], move[1])\n            fitness_values_candidates = calculate_fitness_value(list_of_candidates)\n            \n            # Checking the validation\n            if(check_validation(list_of_candidates)<= (1-K)*D):\n              cur_TS_struct[move]['f'] = fitness_values_candidates\n            else:\n              cur_TS_struct[move]['f'] = 0\n            \n        current = 1   \n        while current>0:\n            # Selecting the move which has the highest objective value in the neighborhood \n            selected_move = max(cur_TS_struct, key = lambda x: cur_TS_struct[x]['f'])\n            M_val = cur_TS_struct[selected_move][\"f\"]\n            time_required = cur_TS_struct[selected_move][\"it\"]\n            # if tabu not taken\n            if time_required < iter:\n                # Continuing with the move\n                cur_Sol = generate_neighbourhood_solution(cur_Sol, selected_move[0], selected_move[1])\n                cur_fitness_values = calculate_fitness_value(cur_Sol)\n                \n                # improvement of the selected move\n                if M_val > fitness_values:\n                    final_Sol = cur_Sol\n                    fitness_values = cur_fitness_values\n                    cnt = 0\n                else:\n                    cnt += 1\n                    \n                cur_TS_struct[selected_move]['it'] = iter + curr\n                iter += 1\n                break\n                \n            # If tabu is taken\n            else:\n                # improvement of the selected move\n                if M_val > fitness_values:                    \n                    cur_Sol = generate_neighbourhood_solution(cur_Sol, selected_move[0], selected_move[1])\n                    cur_fitness_values = calculate_fitness_value(cur_Sol)\n                    final_Sol = cur_Sol\n                    fitness_values = cur_fitness_values\n                    cnt = 0\n                    iter += 1\n                    break\n                else:\n                    cur_TS_struct[selected_move][\"f\"] = 0\n                    continue\n    return final_Sol",
      "metadata": {},
      "execution_count": 11,
      "outputs": []
    },
    {
      "cell_type": "code",
      "source": "# Genetic Algorithm with Tabu search\n\ndef GA(obj_function, N, total_iterations, pop_size, cross_prob, mut_prob):\n    \n    max_fit = []  \n    \n    # Generating initial population\n    pop = generate_initial_population(pop_size,N)\n    best_eval = obj_function(pop[0])\n    best = 0\n    best_vals = [obj_function(c) for c in pop]\n    max_fit.append(max(best_vals))\n    \n    for gen in range(total_iterations):\n        \n        # calculating the best fitness value for each population\n        best_vals = [obj_function(c) for c in pop]\n        \n        for i in range(pop_size):\n          if best_vals[i] > best_eval:\n            best_eval = best_vals[i]\n            best = pop[i]\n            \n        # roulette wheel function called\n        selected = roulette_wheel_selection(pop,pop_size)\n        selected = roulette_wheel_selection(pop,pop_size - 1)\n        \n        # Initialising the first_Sol1 with the selected chromosome from roulette wheel selection method\n        first_Sol1 = selected[0]\n        \n        # Amalgamation of GA and TA to generate the selected population\n        selected.append(Tabu_Search(first_Sol1))\n        \n        #crossover and mutation\n        children = list()\n        for i in range(0, pop_size, 2):\n          par1 = selected[i]\n          par2 = selected[i+1]\n          for c in crossover(par1, par2, cross_prob):\n            mutation(c, mut_prob)\n            children.append(c)\n        pop = children\n        max_fit.append(max(best_vals))\n        \n    print('Implemented the Amalgamation of GA and Tabu Search algorithm successfully---->')\n    print(best_eval)\n    print(best)\n    return max_fit",
      "metadata": {},
      "execution_count": 12,
      "outputs": []
    },
    {
      "cell_type": "code",
      "source": "# finding the max_fit value by calling the GA+TS\nmax_fit = GA(calculate_fitness_value, N, total_iterations, pop_size, cross_prob, mut_prob)",
      "metadata": {},
      "execution_count": 13,
      "outputs": [
        {
          "name": "stdout",
          "output_type": "stream",
          "text": "Implemented the Amalgamation of GA and Tabu Search algorithm successfully---->\n\n3.4034000000000004\n\n[1, 1, 1, 1, 0, 1, 1, 0, 0, 0]\n"
        }
      ]
    },
    {
      "cell_type": "code",
      "source": "# Plotting the graph for max_fit\n\nimport matplotlib.pyplot as plt\nimport matplotlib as mpl\nfrom cycler import cycler\nmpl.rcParams['lines.linewidth'] = 2\nmpl.rcParams['lines.linestyle'] = '--'\nplt.plot(max_fit, label=\"Maximum Fitness per generation\")\nplt.legend()\nplt.title(\"Fitness vs Generations\")\nplt.xlabel(\"Generations\")\nplt.ylabel(\"Fitness Value\")\nplt.show()",
      "metadata": {},
      "execution_count": 14,
      "outputs": [
        {
          "output_type": "display_data",
          "data": {
            "image/png": "[encoded data removed]",
            "text/plain": [
              "<Figure size 432x288 with 1 Axes>"
            ]
          },
          "metadata": {
            "needs_background": "light"
          }
        }
      ]
    },
    {
      "cell_type": "code",
      "source": "",
      "metadata": {},
      "execution_count": null,
      "outputs": []
    }
  ]
}